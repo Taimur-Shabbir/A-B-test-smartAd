{
 "cells": [
  {
   "cell_type": "markdown",
   "id": "1bac8dec",
   "metadata": {},
   "source": [
    "# 1) Problem Scenario"
   ]
  },
  {
   "cell_type": "markdown",
   "id": "4b0905e8",
   "metadata": {},
   "source": [
    "As part of its operations, a business shows its customers an ad, the purpose of which is to encourage the customer to fill out a 'BIO questionnaire'. Customers may see this questionnaire and choose to\n",
    "- fill it out with the option of clicking on 'Yes'\n",
    "- reject filling it out with the option of clicking 'No'\n",
    "- Ignore the questionnaire entirely by clicking neither 'Yes' or 'No'\n",
    "\n",
    "The ad the business is currently using is called a 'dummy ad'; it is plain and not interactive. The response rate is a measure of effectiveness of the ad, and is equal to the number of 'Yes' or 'No' responses collectively divided by the total number of customers the ad is shown to. \n",
    "\n",
    "\n",
    "The business wants to come up with a new ad that increases this response rate. It calls this the 'Smart Ad' or the 'Creative Ad', an interactive, colourful cousin of its blander counterpart. It wishes to see whether or not showing this Smart Ad to customers will actually increase the response rate"
   ]
  },
  {
   "cell_type": "markdown",
   "id": "b37038b4",
   "metadata": {},
   "source": [
    "## 1.2) Business Objective and Effect Size"
   ]
  },
  {
   "cell_type": "markdown",
   "id": "b31d7193",
   "metadata": {},
   "source": [
    "The company aims to see a minimum detectable effect of a 2% increase in response rates as a result of the new Creative Ad"
   ]
  },
  {
   "cell_type": "markdown",
   "id": "97d13292",
   "metadata": {},
   "source": [
    "## 1.3) The question we want to answer and our hypotheses:\n",
    "\n",
    "\"Is there a statistically significant difference in response rates to the BIO questionnaire between the control and exposed groups?\"\n",
    "\n",
    "We will see shortly that in the column descriptions, the description of the auction_id column says that:\n",
    "\n",
    "\"The user may see the BIO questionnaire but choose not to respond. In that case both the yes and no columns are zero.\"\n",
    "\n",
    "In this context, we are not trying to find out which group saw more people choose 'Yes' and fill out the questionnaire. We are simply finding which group elicited more people to *respond*, whether their response was 'Yes' or 'No'\n",
    "\n",
    "---\n",
    "\n",
    "So, to create our outcome variable, we need to find out the proportions of respondents (either 'yes' = 1 or 'no' = 1) to the total number of people, for both the control and exposed groups"
   ]
  },
  {
   "cell_type": "markdown",
   "id": "70f53dc8",
   "metadata": {},
   "source": [
    "### 1.31) Null and Alternative Hypotheses"
   ]
  },
  {
   "cell_type": "markdown",
   "id": "ea593de4",
   "metadata": {},
   "source": [
    "We hypothesise that our 'exposed' group will have a higher response rate compared to our 'control' group. So we will conduct a one-tailed test.\n",
    "\n",
    "If **p<sub>c</sub>** is the response rate of the control group and **p<sub>e</sub>** is the response rate of the exposed group, then:\n",
    "\n",
    "H0: SmartAd recipients that receive the Creative Ad will have the *same response rate* as the response rate of recipients who receive the dummy ad \n",
    "\n",
    "**p<sub>c</sub>** = **p<sub>e</sub>**\n",
    "\n",
    "\n",
    "H1: SmartAd recipients that receive the Creative Ad will have *a higher response rate* than the response rate of recipients  who receive the dummy ad\n",
    "\n",
    "**p<sub>c</sub>** < **p<sub>e</sub>**"
   ]
  },
  {
   "cell_type": "markdown",
   "id": "87899b3b",
   "metadata": {},
   "source": [
    "## 1.4) Limitations"
   ]
  },
  {
   "cell_type": "markdown",
   "id": "75f64304",
   "metadata": {},
   "source": [
    "These primarily result from the existence of other independent variables we do not account for, as they might have effects on the outcome. For example, the day of the week or hour of the day that the creative ad is shown to individuals might influence whether or not they respond to it. \n",
    "\n",
    "\n",
    "One way to deal with this is to fix these values. This would mean, for example, we only use those observations from the dataset where the date or hour value is the same. That is to say, we may only look at those individuals who saw the creative ad on the same day or even within the same hour.\n",
    "\n",
    "\n",
    "However, this will lead to a substantial reduction in sample size, which will directly and negatively impact our hypothesis testing. Therefore, we do not use this approach.\n",
    "\n",
    "Another way to minimise these effects is to have truly random sampling. This is done to a. Distribute co-variates evenly and b. eliminate statistical bias as much as possible.\n",
    "\n",
    "Since we did not sample this data ourselves, we cannot be 100% certain about the randomness of the sampling"
   ]
  },
  {
   "cell_type": "markdown",
   "id": "ba997574",
   "metadata": {},
   "source": [
    "## 1.5) Data Source\n",
    "\n",
    "The dataset is obtained from [Kaggle](https://www.kaggle.com/datasets/osuolaleemmanuel/ad-ab-testing) and was uploaded by user [Osuolale Emmanuel](https://www.kaggle.com/osuolaleemmanuel)"
   ]
  },
  {
   "cell_type": "markdown",
   "id": "ae6ee7f0",
   "metadata": {},
   "source": [
    "# 2) Loading and Pre-Processing Data"
   ]
  },
  {
   "cell_type": "code",
   "execution_count": 55,
   "id": "29b90872",
   "metadata": {},
   "outputs": [],
   "source": [
    "# imports\n",
    "\n",
    "import pandas as pd\n",
    "import numpy as np\n",
    "import matplotlib.pyplot as plt\n",
    "import matplotlib.style as style\n",
    "import seaborn as sns\n",
    "\n",
    "%matplotlib inline\n",
    "\n",
    "# visualisation presets\n",
    "\n",
    "style.use('fivethirtyeight')\n",
    "preferred_font = {'fontname':'Helvetica'}"
   ]
  },
  {
   "cell_type": "code",
   "execution_count": 56,
   "id": "4f455c00",
   "metadata": {},
   "outputs": [
    {
     "name": "stdout",
     "output_type": "stream",
     "text": [
      "size of dataset: 8077 and number of columns: 9\n",
      "------------\n",
      "column types:\n",
      "auction_id object\n",
      "experiment object\n",
      "date object\n",
      "hour int64\n",
      "device_make object\n",
      "platform_os int64\n",
      "browser object\n",
      "yes int64\n",
      "no int64\n"
     ]
    }
   ],
   "source": [
    "# read in data\n",
    "\n",
    "data = pd.read_csv('/Users/alitaimurshabbir/Desktop/AdSmartABdata - AdSmartABdata.csv')\n",
    "print('size of dataset: {0} and number of columns: {1}'.format(len(data), len(data.columns)))\n",
    "\n",
    "# data types\n",
    "\n",
    "print('------------')\n",
    "print('column types:')\n",
    "\n",
    "for column, dtype in data.dtypes.iteritems():\n",
    "    print(column, dtype)"
   ]
  },
  {
   "cell_type": "markdown",
   "id": "d32e9cbb",
   "metadata": {},
   "source": [
    "## 2.1) Description of Columns"
   ]
  },
  {
   "cell_type": "markdown",
   "id": "d5654b55",
   "metadata": {},
   "source": [
    "| Column      | Description                                                                                                                                                                                                                                     |\n",
    "|-------------|-------------------------------------------------------------------------------------------------------------------------------------------------------------------------------------------------------------------------------------------------|\n",
    "| auction_id  | the unique id of the online user who has been presented the BIO. In standard terminologies this is called an impression id. The user may see the BIO questionnaire but choose not to respond. In that case both the yes and no columns are zero |\n",
    "| experiment  | which group the user belongs to - control or exposed.                                                                                                                                                                                           |\n",
    "| date        | the date in YYYY-MM-DD format                                                                                                                                                                                                                   |\n",
    "| hour        | the hour of the day in HH format.                                                                                                                                                                                                               |\n",
    "| device_make | the name of the type of device the user has e.g. Samsung                                                                                                                                                                                        |\n",
    "| platform_os | the id of the OS the user has.                                                                                                                                                                                                                  |\n",
    "| browser     | the name of the browser the user uses to see the BIO questionnaire.                                                                                                                                                                             |\n",
    "| yes         | 1 if the user chooses the “Yes” radio button for the BIO questionnaire.                                                                                                                                                                         |\n",
    "| no          | 1 if the user chooses the “No” radio button for the BIO questionnaire.      "
   ]
  },
  {
   "cell_type": "markdown",
   "id": "28153fb8",
   "metadata": {},
   "source": [
    "## 2.2) Check for duplicates and null values"
   ]
  },
  {
   "cell_type": "code",
   "execution_count": 57,
   "id": "2e003a62",
   "metadata": {},
   "outputs": [
    {
     "data": {
      "text/html": [
       "<div>\n",
       "<style scoped>\n",
       "    .dataframe tbody tr th:only-of-type {\n",
       "        vertical-align: middle;\n",
       "    }\n",
       "\n",
       "    .dataframe tbody tr th {\n",
       "        vertical-align: top;\n",
       "    }\n",
       "\n",
       "    .dataframe thead th {\n",
       "        text-align: right;\n",
       "    }\n",
       "</style>\n",
       "<table border=\"1\" class=\"dataframe\">\n",
       "  <thead>\n",
       "    <tr style=\"text-align: right;\">\n",
       "      <th></th>\n",
       "      <th>auction_id</th>\n",
       "      <th>experiment</th>\n",
       "      <th>date</th>\n",
       "      <th>hour</th>\n",
       "      <th>device_make</th>\n",
       "      <th>platform_os</th>\n",
       "      <th>browser</th>\n",
       "      <th>yes</th>\n",
       "      <th>no</th>\n",
       "    </tr>\n",
       "  </thead>\n",
       "  <tbody>\n",
       "  </tbody>\n",
       "</table>\n",
       "</div>"
      ],
      "text/plain": [
       "Empty DataFrame\n",
       "Columns: [auction_id, experiment, date, hour, device_make, platform_os, browser, yes, no]\n",
       "Index: []"
      ]
     },
     "execution_count": 57,
     "metadata": {},
     "output_type": "execute_result"
    }
   ],
   "source": [
    "data[data.duplicated(['auction_id'], keep=False)]"
   ]
  },
  {
   "cell_type": "markdown",
   "id": "e9750d5a",
   "metadata": {},
   "source": [
    "There are no duplicates"
   ]
  },
  {
   "cell_type": "code",
   "execution_count": 58,
   "id": "36d44bd0",
   "metadata": {},
   "outputs": [
    {
     "data": {
      "text/plain": [
       "0"
      ]
     },
     "execution_count": 58,
     "metadata": {},
     "output_type": "execute_result"
    }
   ],
   "source": [
    "data.isnull().sum().sum()"
   ]
  },
  {
   "cell_type": "markdown",
   "id": "6f7167ee",
   "metadata": {},
   "source": [
    "There are no null values"
   ]
  },
  {
   "cell_type": "markdown",
   "id": "954adfd5",
   "metadata": {},
   "source": [
    "## 2.3) Get data in the required format"
   ]
  },
  {
   "cell_type": "code",
   "execution_count": 59,
   "id": "d066c160",
   "metadata": {},
   "outputs": [],
   "source": [
    "# create outcome variable 'response'. If either 'yes' or 'no' = 1, then response = 1\n",
    "# if both 'yes' and 'no' = 0, then response = 0\n",
    "\n",
    "conditions = [\n",
    "    (data['yes'] == 0) & (data['no'] == 0),\n",
    "    (data['yes'] == 1) & (data['no'] == 0),\n",
    "    (data['yes'] == 0) & (data['no'] == 1),\n",
    "]\n",
    "\n",
    "outputs = [0, 1, 1]\n",
    "\n",
    "data['response'] = np.select(conditions, outputs, 99)"
   ]
  },
  {
   "cell_type": "code",
   "execution_count": 60,
   "id": "a72ae180",
   "metadata": {},
   "outputs": [],
   "source": [
    "# create a crosstab to understand relevant variables\n",
    "\n",
    "# responders in control group\n",
    "control = data[data['experiment'] == 'control']['response']\n",
    "\n",
    "# responders in exposed group\n",
    "exposed = data[data['experiment'] == 'exposed']['response']\n",
    "\n",
    "cross_tab = pd.DataFrame(pd.crosstab(data['experiment'], data['response']))\n",
    "\n",
    "# add response rate for each group\n",
    "cross_tab['response_rate'] = cross_tab[1]/(cross_tab[0] + cross_tab[1])"
   ]
  },
  {
   "cell_type": "code",
   "execution_count": 61,
   "id": "a8dd8667",
   "metadata": {},
   "outputs": [
    {
     "data": {
      "text/html": [
       "<div>\n",
       "<style scoped>\n",
       "    .dataframe tbody tr th:only-of-type {\n",
       "        vertical-align: middle;\n",
       "    }\n",
       "\n",
       "    .dataframe tbody tr th {\n",
       "        vertical-align: top;\n",
       "    }\n",
       "\n",
       "    .dataframe thead th {\n",
       "        text-align: right;\n",
       "    }\n",
       "</style>\n",
       "<table border=\"1\" class=\"dataframe\">\n",
       "  <thead>\n",
       "    <tr style=\"text-align: right;\">\n",
       "      <th></th>\n",
       "      <th>auction_id</th>\n",
       "      <th>experiment</th>\n",
       "      <th>date</th>\n",
       "      <th>hour</th>\n",
       "      <th>device_make</th>\n",
       "      <th>platform_os</th>\n",
       "      <th>browser</th>\n",
       "      <th>yes</th>\n",
       "      <th>no</th>\n",
       "      <th>response</th>\n",
       "    </tr>\n",
       "  </thead>\n",
       "  <tbody>\n",
       "    <tr>\n",
       "      <th>3</th>\n",
       "      <td>00187412-2932-4542-a8ef-3633901c98d9</td>\n",
       "      <td>control</td>\n",
       "      <td>2020-07-03</td>\n",
       "      <td>15</td>\n",
       "      <td>Samsung SM-A705FN</td>\n",
       "      <td>6</td>\n",
       "      <td>Facebook</td>\n",
       "      <td>0</td>\n",
       "      <td>0</td>\n",
       "      <td>0</td>\n",
       "    </tr>\n",
       "    <tr>\n",
       "      <th>4</th>\n",
       "      <td>001a7785-d3fe-4e11-a344-c8735acacc2c</td>\n",
       "      <td>control</td>\n",
       "      <td>2020-07-03</td>\n",
       "      <td>15</td>\n",
       "      <td>Generic Smartphone</td>\n",
       "      <td>6</td>\n",
       "      <td>Chrome Mobile</td>\n",
       "      <td>0</td>\n",
       "      <td>0</td>\n",
       "      <td>0</td>\n",
       "    </tr>\n",
       "    <tr>\n",
       "      <th>5</th>\n",
       "      <td>0027ce48-d3c6-4935-bb12-dfb5d5627857</td>\n",
       "      <td>control</td>\n",
       "      <td>2020-07-03</td>\n",
       "      <td>15</td>\n",
       "      <td>Samsung SM-G960F</td>\n",
       "      <td>6</td>\n",
       "      <td>Facebook</td>\n",
       "      <td>0</td>\n",
       "      <td>0</td>\n",
       "      <td>0</td>\n",
       "    </tr>\n",
       "    <tr>\n",
       "      <th>6</th>\n",
       "      <td>002e308b-1a07-49d6-8560-0fbcdcd71e4b</td>\n",
       "      <td>control</td>\n",
       "      <td>2020-07-03</td>\n",
       "      <td>15</td>\n",
       "      <td>Generic Smartphone</td>\n",
       "      <td>6</td>\n",
       "      <td>Chrome Mobile</td>\n",
       "      <td>0</td>\n",
       "      <td>0</td>\n",
       "      <td>0</td>\n",
       "    </tr>\n",
       "    <tr>\n",
       "      <th>7</th>\n",
       "      <td>00393fb9-ca32-40c0-bfcb-1bd83f319820</td>\n",
       "      <td>control</td>\n",
       "      <td>2020-07-09</td>\n",
       "      <td>5</td>\n",
       "      <td>Samsung SM-G973F</td>\n",
       "      <td>6</td>\n",
       "      <td>Facebook</td>\n",
       "      <td>0</td>\n",
       "      <td>0</td>\n",
       "      <td>0</td>\n",
       "    </tr>\n",
       "    <tr>\n",
       "      <th>...</th>\n",
       "      <td>...</td>\n",
       "      <td>...</td>\n",
       "      <td>...</td>\n",
       "      <td>...</td>\n",
       "      <td>...</td>\n",
       "      <td>...</td>\n",
       "      <td>...</td>\n",
       "      <td>...</td>\n",
       "      <td>...</td>\n",
       "      <td>...</td>\n",
       "    </tr>\n",
       "    <tr>\n",
       "      <th>8065</th>\n",
       "      <td>ffbc02cb-628a-4de5-87fc-5d76b7d796e5</td>\n",
       "      <td>exposed</td>\n",
       "      <td>2020-07-09</td>\n",
       "      <td>17</td>\n",
       "      <td>Generic Smartphone</td>\n",
       "      <td>6</td>\n",
       "      <td>Chrome Mobile</td>\n",
       "      <td>0</td>\n",
       "      <td>0</td>\n",
       "      <td>0</td>\n",
       "    </tr>\n",
       "    <tr>\n",
       "      <th>8067</th>\n",
       "      <td>ffc594ef-756c-4d24-a310-0d8eb4e11eb7</td>\n",
       "      <td>exposed</td>\n",
       "      <td>2020-07-05</td>\n",
       "      <td>1</td>\n",
       "      <td>Samsung SM-G950F</td>\n",
       "      <td>6</td>\n",
       "      <td>Chrome Mobile WebView</td>\n",
       "      <td>0</td>\n",
       "      <td>0</td>\n",
       "      <td>0</td>\n",
       "    </tr>\n",
       "    <tr>\n",
       "      <th>8071</th>\n",
       "      <td>ffdfdc09-48c7-4bfb-80f8-ec1eb633602b</td>\n",
       "      <td>exposed</td>\n",
       "      <td>2020-07-03</td>\n",
       "      <td>4</td>\n",
       "      <td>Generic Smartphone</td>\n",
       "      <td>6</td>\n",
       "      <td>Chrome Mobile</td>\n",
       "      <td>0</td>\n",
       "      <td>1</td>\n",
       "      <td>1</td>\n",
       "    </tr>\n",
       "    <tr>\n",
       "      <th>8072</th>\n",
       "      <td>ffea24ec-cec1-43fb-b1d1-8f93828c2be2</td>\n",
       "      <td>exposed</td>\n",
       "      <td>2020-07-05</td>\n",
       "      <td>7</td>\n",
       "      <td>Generic Smartphone</td>\n",
       "      <td>6</td>\n",
       "      <td>Chrome Mobile</td>\n",
       "      <td>0</td>\n",
       "      <td>0</td>\n",
       "      <td>0</td>\n",
       "    </tr>\n",
       "    <tr>\n",
       "      <th>8075</th>\n",
       "      <td>ffeeed62-3f7c-4a6e-8ba7-95d303d40969</td>\n",
       "      <td>exposed</td>\n",
       "      <td>2020-07-05</td>\n",
       "      <td>15</td>\n",
       "      <td>Samsung SM-A515F</td>\n",
       "      <td>6</td>\n",
       "      <td>Samsung Internet</td>\n",
       "      <td>0</td>\n",
       "      <td>0</td>\n",
       "      <td>0</td>\n",
       "    </tr>\n",
       "  </tbody>\n",
       "</table>\n",
       "<p>8077 rows × 10 columns</p>\n",
       "</div>"
      ],
      "text/plain": [
       "                                auction_id experiment        date  hour  \\\n",
       "3     00187412-2932-4542-a8ef-3633901c98d9    control  2020-07-03    15   \n",
       "4     001a7785-d3fe-4e11-a344-c8735acacc2c    control  2020-07-03    15   \n",
       "5     0027ce48-d3c6-4935-bb12-dfb5d5627857    control  2020-07-03    15   \n",
       "6     002e308b-1a07-49d6-8560-0fbcdcd71e4b    control  2020-07-03    15   \n",
       "7     00393fb9-ca32-40c0-bfcb-1bd83f319820    control  2020-07-09     5   \n",
       "...                                    ...        ...         ...   ...   \n",
       "8065  ffbc02cb-628a-4de5-87fc-5d76b7d796e5    exposed  2020-07-09    17   \n",
       "8067  ffc594ef-756c-4d24-a310-0d8eb4e11eb7    exposed  2020-07-05     1   \n",
       "8071  ffdfdc09-48c7-4bfb-80f8-ec1eb633602b    exposed  2020-07-03     4   \n",
       "8072  ffea24ec-cec1-43fb-b1d1-8f93828c2be2    exposed  2020-07-05     7   \n",
       "8075  ffeeed62-3f7c-4a6e-8ba7-95d303d40969    exposed  2020-07-05    15   \n",
       "\n",
       "             device_make  platform_os                browser  yes  no  \\\n",
       "3      Samsung SM-A705FN            6               Facebook    0   0   \n",
       "4     Generic Smartphone            6          Chrome Mobile    0   0   \n",
       "5       Samsung SM-G960F            6               Facebook    0   0   \n",
       "6     Generic Smartphone            6          Chrome Mobile    0   0   \n",
       "7       Samsung SM-G973F            6               Facebook    0   0   \n",
       "...                  ...          ...                    ...  ...  ..   \n",
       "8065  Generic Smartphone            6          Chrome Mobile    0   0   \n",
       "8067    Samsung SM-G950F            6  Chrome Mobile WebView    0   0   \n",
       "8071  Generic Smartphone            6          Chrome Mobile    0   1   \n",
       "8072  Generic Smartphone            6          Chrome Mobile    0   0   \n",
       "8075    Samsung SM-A515F            6       Samsung Internet    0   0   \n",
       "\n",
       "      response  \n",
       "3            0  \n",
       "4            0  \n",
       "5            0  \n",
       "6            0  \n",
       "7            0  \n",
       "...        ...  \n",
       "8065         0  \n",
       "8067         0  \n",
       "8071         1  \n",
       "8072         0  \n",
       "8075         0  \n",
       "\n",
       "[8077 rows x 10 columns]"
      ]
     },
     "execution_count": 61,
     "metadata": {},
     "output_type": "execute_result"
    }
   ],
   "source": [
    "# create dataframes that hold data for either group, then concatenate\n",
    "\n",
    "control_sample = data[data['experiment'] == 'control']\n",
    "\n",
    "exposed_sample = data[data['experiment'] == 'exposed']\n",
    "\n",
    "ab_test = pd.concat([control_sample, exposed_sample], axis = 0)\n",
    "\n",
    "ab_test"
   ]
  },
  {
   "cell_type": "code",
   "execution_count": 62,
   "id": "b41041fa",
   "metadata": {},
   "outputs": [
    {
     "data": {
      "text/html": [
       "<div>\n",
       "<style scoped>\n",
       "    .dataframe tbody tr th:only-of-type {\n",
       "        vertical-align: middle;\n",
       "    }\n",
       "\n",
       "    .dataframe tbody tr th {\n",
       "        vertical-align: top;\n",
       "    }\n",
       "\n",
       "    .dataframe thead th {\n",
       "        text-align: right;\n",
       "    }\n",
       "</style>\n",
       "<table border=\"1\" class=\"dataframe\">\n",
       "  <thead>\n",
       "    <tr style=\"text-align: right;\">\n",
       "      <th></th>\n",
       "      <th>0</th>\n",
       "      <th>1</th>\n",
       "      <th>response_rate</th>\n",
       "      <th>std_deviation</th>\n",
       "    </tr>\n",
       "    <tr>\n",
       "      <th>experiment</th>\n",
       "      <th></th>\n",
       "      <th></th>\n",
       "      <th></th>\n",
       "      <th></th>\n",
       "    </tr>\n",
       "  </thead>\n",
       "  <tbody>\n",
       "    <tr>\n",
       "      <th>control</th>\n",
       "      <td>3485</td>\n",
       "      <td>586</td>\n",
       "      <td>0.143945</td>\n",
       "      <td>0.351077</td>\n",
       "    </tr>\n",
       "    <tr>\n",
       "      <th>exposed</th>\n",
       "      <td>3349</td>\n",
       "      <td>657</td>\n",
       "      <td>0.164004</td>\n",
       "      <td>0.370325</td>\n",
       "    </tr>\n",
       "  </tbody>\n",
       "</table>\n",
       "</div>"
      ],
      "text/plain": [
       "               0    1  response_rate  std_deviation\n",
       "experiment                                         \n",
       "control     3485  586       0.143945       0.351077\n",
       "exposed     3349  657       0.164004       0.370325"
      ]
     },
     "execution_count": 62,
     "metadata": {},
     "output_type": "execute_result"
    }
   ],
   "source": [
    "# find standard deviation for each group and display crosstab\n",
    "\n",
    "std_deviation = ab_test.groupby('experiment')['response'].std()\n",
    "cross_tab = pd.concat([cross_tab, std_deviation], axis = 1)\n",
    "cross_tab.rename({'response':'std_deviation'}, axis = 1, inplace = True)\n",
    "cross_tab"
   ]
  },
  {
   "cell_type": "markdown",
   "id": "aca3c075",
   "metadata": {},
   "source": [
    "- It seems that the response rate for the exposed group is about 2% greater than in the control group, which is what we expected to see\n",
    "\n",
    "\n",
    "- Standard deviation across both groups is also very similar"
   ]
  },
  {
   "cell_type": "markdown",
   "id": "2bdf8fa7",
   "metadata": {},
   "source": [
    "# 3) EDA"
   ]
  },
  {
   "cell_type": "markdown",
   "id": "4b514687",
   "metadata": {},
   "source": [
    "## 3.1) Number of Observations in Each Sample"
   ]
  },
  {
   "cell_type": "code",
   "execution_count": 83,
   "id": "53d9bb88",
   "metadata": {},
   "outputs": [
    {
     "data": {
      "text/plain": [
       "<AxesSubplot:title={'center':'Sizes of Control and Exposed Groups - % of Total Observsations'}, ylabel='experiment'>"
      ]
     },
     "execution_count": 83,
     "metadata": {},
     "output_type": "execute_result"
    },
    {
     "data": {
      "image/png": "[encoded data removed]",
      "text/plain": [
       "<Figure size 432x432 with 1 Axes>"
      ]
     },
     "metadata": {},
     "output_type": "display_data"
    }
   ],
   "source": [
    "colours = ['#564787', '#F2FDFF']\n",
    "experiment_countValues = ab_test['experiment'].value_counts()\n",
    "experiment_countValues.plot(kind = 'pie', colors = colours, figsize = (6, 6), \n",
    "            title = 'Sizes of Control and Exposed Groups - % of Total Observsations', \n",
    "            fontsize = 13, autopct='%1.1f%%', shadow = True)"
   ]
  },
  {
   "cell_type": "markdown",
   "id": "7839118b",
   "metadata": {},
   "source": [
    "- There is thankfully an equal split of observations in our control and exposed groups"
   ]
  },
  {
   "cell_type": "markdown",
   "id": "351bb049",
   "metadata": {},
   "source": [
    "## 3.2) Response Rates of Both Groups"
   ]
  },
  {
   "cell_type": "code",
   "execution_count": 64,
   "id": "f67bb995",
   "metadata": {},
   "outputs": [
    {
     "data": {
      "text/plain": [
       "Text(0, 0.5, 'Response Rate')"
      ]
     },
     "execution_count": 64,
     "metadata": {},
     "output_type": "execute_result"
    },
    {
     "data": {
      "image/png": "[encoded data removed]",
      "text/plain": [
       "<Figure size 432x432 with 1 Axes>"
      ]
     },
     "metadata": {},
     "output_type": "display_data"
    }
   ],
   "source": [
    "plot = pd.DataFrame(ab_test.groupby('experiment')['response'].mean()).reset_index()\n",
    "plt.figure(figsize = (6, 6))\n",
    "plt.bar(plot['experiment'], plot['response'], color = 'slateblue')\n",
    "plt.title('Overall Response Rates of control vs exposed group', **preferred_font, fontsize = 16)\n",
    "plt.xlabel('Group', **preferred_font, fontsize = 12)\n",
    "plt.ylabel('Response Rate', **preferred_font, fontsize = 12)"
   ]
  },
  {
   "cell_type": "markdown",
   "id": "7021052a",
   "metadata": {},
   "source": [
    "- As shown in the crosstab previously, the exposed group has about a 2% higher response rate"
   ]
  },
  {
   "cell_type": "markdown",
   "id": "8907f9da",
   "metadata": {},
   "source": [
    "## 3.3) Number of Responses By Time of Day"
   ]
  },
  {
   "cell_type": "code",
   "execution_count": 82,
   "id": "32745f9d",
   "metadata": {},
   "outputs": [
    {
     "data": {
      "text/plain": [
       "Text(0, 0.5, 'Number of Responses')"
      ]
     },
     "execution_count": 82,
     "metadata": {},
     "output_type": "execute_result"
    },
    {
     "data": {
      "image/png": "[encoded data removed]",
      "text/plain": [
       "<Figure size 576x288 with 1 Axes>"
      ]
     },
     "metadata": {},
     "output_type": "display_data"
    }
   ],
   "source": [
    "plt.figure(figsize = (8, 4))\n",
    "plt.bar(ab_test.groupby('hour')['response'].sum().index,\n",
    "        ab_test.groupby('hour')['response'].sum(), color = '#9AD4D6')\n",
    "plt.title('Number of Responses by Hour - both groups combined', **preferred_font, fontsize = 16)\n",
    "plt.xlabel('Hour of Day', **preferred_font, fontsize = 12)\n",
    "plt.ylabel('Number of Responses', **preferred_font, fontsize = 12)"
   ]
  },
  {
   "cell_type": "markdown",
   "id": "5fa30436",
   "metadata": {},
   "source": [
    "- The data is dominated for both groups by the time slot of 3 pm. In other words, customers in both the control and exposed groups responded to the dummy and Creative Ad respectively to a much greater extent when they saw the ad at 3 pm.\n",
    "\n",
    "\n",
    "- This may simply be because most people check their computers/phones at around this hour, perhaps just before their lunch break finishes. However, this is purely theoretical on my part"
   ]
  },
  {
   "cell_type": "markdown",
   "id": "7c4fa10a",
   "metadata": {},
   "source": [
    "## 3.4) Total Number of Individuals Who Received Either Ad"
   ]
  },
  {
   "cell_type": "code",
   "execution_count": 66,
   "id": "60e016e1",
   "metadata": {},
   "outputs": [
    {
     "data": {
      "text/plain": [
       "Text(0, 0.5, 'Number of Individuals')"
      ]
     },
     "execution_count": 66,
     "metadata": {},
     "output_type": "execute_result"
    },
    {
     "data": {
      "image/png": "[encoded data removed]",
      "text/plain": [
       "<Figure size 576x288 with 1 Axes>"
      ]
     },
     "metadata": {},
     "output_type": "display_data"
    }
   ],
   "source": [
    "plt.figure(figsize = (8, 4))\n",
    "plt.bar(ab_test.groupby('hour')['auction_id'].count().index,\n",
    "        ab_test.groupby('hour')['auction_id'].count(), color = 'slateblue')\n",
    "plt.title('Total Number of Individuals Who Received an Ad, by Hour - both groups combined',\n",
    "          **preferred_font, fontsize = 14)\n",
    "plt.xlabel('Hour of Day', **preferred_font, fontsize = 11)\n",
    "plt.ylabel('Number of Individuals', **preferred_font, fontsize = 11)"
   ]
  },
  {
   "cell_type": "markdown",
   "id": "d23b1bc2",
   "metadata": {},
   "source": [
    "- We see the same phenomenon as above, only this time for all ads received, whether they were responded to or not"
   ]
  },
  {
   "cell_type": "markdown",
   "id": "310585b1",
   "metadata": {},
   "source": [
    "## 3.5) Response Rates by Date and Group"
   ]
  },
  {
   "cell_type": "code",
   "execution_count": 73,
   "id": "d9291d05",
   "metadata": {},
   "outputs": [
    {
     "data": {
      "text/plain": [
       "Text(0.5, 1.0, 'Response Rates by Date and Group')"
      ]
     },
     "execution_count": 73,
     "metadata": {},
     "output_type": "execute_result"
    },
    {
     "data": {
      "image/png": "[encoded data removed]",
      "text/plain": [
       "<Figure size 801.1x360 with 1 Axes>"
      ]
     },
     "metadata": {},
     "output_type": "display_data"
    }
   ],
   "source": [
    "# sort dataframe by date and make a copy\n",
    "\n",
    "ab_test_date_sorted = ab_test.sort_values(by = ['experiment', 'date'])\n",
    "\n",
    "# Draw a grouped barplot by date and group\n",
    "\n",
    "sns.catplot(data = ab_test_date_sorted, kind = \"bar\", x=\"date\",\n",
    "            y = \"response\", hue = \"experiment\", palette=\"mako\",\n",
    "            alpha = 0.9, ci = None, aspect = 18/9)\n",
    "\n",
    "plt.title('Response Rates by Date and Group', size = 18)"
   ]
  },
  {
   "cell_type": "markdown",
   "id": "f17f7f9e",
   "metadata": {},
   "source": [
    "- The response rate for the exposed group is greater for all days except for the very last date in the experiment. \n",
    "\n",
    "\n",
    "- This is interesting as it could point to the existence of a 'novelty effect'; perhaps customers are only responding to the Creative Ad (exposed group) to a greater extent compared to the dummy ad (control group) simply because the Creative Ad is 'new'"
   ]
  },
  {
   "cell_type": "markdown",
   "id": "81cdf1b1",
   "metadata": {},
   "source": [
    "# 4) Hypothesis Testing"
   ]
  },
  {
   "cell_type": "markdown",
   "id": "deb40fe2",
   "metadata": {},
   "source": [
    "## 4.1) What test should we use?"
   ]
  },
  {
   "cell_type": "markdown",
   "id": "89f7d517",
   "metadata": {},
   "source": [
    "Given that we are working with proportions, 2 samples and a fairly large sample size (n > 4000 for either group), we will use a Z-test for proportions"
   ]
  },
  {
   "cell_type": "markdown",
   "id": "935b6a45",
   "metadata": {},
   "source": [
    "## 4.2) Conduct the test"
   ]
  },
  {
   "cell_type": "markdown",
   "id": "51b0becc",
   "metadata": {},
   "source": [
    "Reiterating our hypotheses:\n",
    "\n",
    "H0: SmartAd recipients that receive the Creative Ad will have the *same response rate* as the response rate of recipients who receive the dummy ad \n",
    "\n",
    "**p<sub>c</sub>** = **p<sub>e</sub>**\n",
    "\n",
    "\n",
    "H1: SmartAd recipients that receive the Creative Ad will have *a higher response rate* than the response rate of recipients  who receive the dummy ad\n",
    "\n",
    "**p<sub>c</sub>** < **p<sub>e</sub>**"
   ]
  },
  {
   "cell_type": "code",
   "execution_count": 74,
   "id": "117a4e9e",
   "metadata": {},
   "outputs": [],
   "source": [
    "from statsmodels.stats.proportion import proportions_ztest, proportion_confint\n",
    "\n",
    "# initialise responses for either group into separate variables\n",
    "\n",
    "control_results = ab_test[ab_test['experiment'] == 'control']['response']\n",
    "exposed_results = ab_test[ab_test['experiment'] == 'exposed']['response']\n",
    "\n",
    "# find the number of observations for each group/sample\n",
    "\n",
    "control_n = control_results.count()\n",
    "exposed_n = exposed_results.count()\n",
    "\n",
    "# find the number of successes for each group/sample\n",
    "\n",
    "successes = [control_results.sum(), exposed_results.sum()]\n",
    "\n",
    "n_observations = [control_n, exposed_n]\n",
    "\n",
    "# conduct the test\n",
    "\n",
    "z_stat, p_val = proportions_ztest(successes, nobs = n_observations)\n",
    "\n",
    "(lower_con, lower_treat),(upper_con, upper_treat) = proportion_confint(successes,\n",
    "                                                                       nobs = n_observations,\n",
    "                                                                       alpha=0.05)"
   ]
  },
  {
   "cell_type": "code",
   "execution_count": 75,
   "id": "81feef9c",
   "metadata": {},
   "outputs": [
    {
     "name": "stdout",
     "output_type": "stream",
     "text": [
      "z-statistic: -2.4978575502090976\n",
      "p-value: 0.012494639102152035\n",
      "95% Confidence Interval for control group: [0.133, 0.155]\n",
      "95% Confidence Interval for exposed group: [0.153, 0.175]\n"
     ]
    }
   ],
   "source": [
    "print('z-statistic: {}'.format(z_stat))\n",
    "print('p-value: {}'.format(p_val))\n",
    "print(f'95% Confidence Interval for control group: [{lower_con:.3f}, {upper_con:.3f}]')\n",
    "print(f'95% Confidence Interval for exposed group: [{lower_treat:.3f}, {upper_treat:.3f}]')"
   ]
  },
  {
   "cell_type": "markdown",
   "id": "8e4239c0",
   "metadata": {},
   "source": [
    "## 4.3) Test and Business Conclusions"
   ]
  },
  {
   "cell_type": "markdown",
   "id": "33b8c793",
   "metadata": {},
   "source": [
    "- We see that our **p-value < 0.05**. Therefore, we can reject the null hypothesis. It is highly likely that the response rate of the exposed group which sees the creative ad is greater than the response rate of the control group which sees the dummy ad.\n",
    "\n",
    "\n",
    "- Moreover, the confidence intervals tell us a similar story. The CI for the exposed group i) does not include the control group response rate of 0.143945 and ii) does include the 2% increase the business aimed to see (0.143945 + 0.02 = **0.163945**)\n",
    "\n",
    "\n",
    "- This means that the business can be highly confident that the Creative Ad elicits more response rates from its customers, and that it should from now on show the Creative Ad to all of its customers (the population)"
   ]
  },
  {
   "cell_type": "code",
   "execution_count": null,
   "id": "9b2c284a",
   "metadata": {},
   "outputs": [],
   "source": []
  }
 ],
 "metadata": {
  "kernelspec": {
   "display_name": "Python 3 (ipykernel)",
   "language": "python",
   "name": "python3"
  },
  "language_info": {
   "codemirror_mode": {
    "name": "ipython",
    "version": 3
   },
   "file_extension": ".py",
   "mimetype": "text/x-python",
   "name": "python",
   "nbconvert_exporter": "python",
   "pygments_lexer": "ipython3",
   "version": "3.7.4"
  }
 },
 "nbformat": 4,
 "nbformat_minor": 5
}
